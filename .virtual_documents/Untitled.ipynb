import numpy as np
import pandas as pd
import seaborn as sns
import matplotlib.pyplot as plt
%matplotlib inline
import requests

from sklearn.neighbors import KNeighborsClassifier
from sklearn.metrics import (
    confusion_matrix,
    classification_report,
    precision_recall_fscore_support,
    accuracy_score
)



!pip install ucimlrepo





import pandas as pd

# Load data from an Excel file or ODS file
file_path = 'data.xlsx'  
df = pd.read_excel(file_path)  # For .ods, use pd.read_excel_ods(file_path, engine="odf")

# Display the first few rows to inspect the data
print("First few rows of the dataset:")
print(df.head())

# Separate the features (X) and target (y)
feature_columns = ['T', 'AP', 'RH', 'V']  # Feature columns
target_column = 'EP'  # Target column for energy output

df_features = df[feature_columns]  # Create a DataFrame with features
df_target = df[[target_column]]  # Create a DataFrame with target only

# Concatenate features and target into a single DataFrame
df_final = pd.concat([df_features, df_target], axis=1)

# Display the concatenated DataFrame
print("Combined DataFrame with features and target:")
print(df_final)




